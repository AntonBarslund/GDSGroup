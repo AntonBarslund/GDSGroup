{
 "cells": [
  {
   "cell_type": "code",
   "execution_count": 1,
   "metadata": {},
   "outputs": [],
   "source": [
    "import numpy as np\n",
    "import pandas as pd\n",
    "from sklearn.model_selection import train_test_split\n",
    "from sklearn.feature_extraction.text import TfidfVectorizer\n",
    "from tensorflow.keras import layers\n",
    "from tensorflow.keras.layers import Input\n",
    "import tensorflow as tf\n",
    "import matplotlib.pyplot as plt\n",
    "from joblib import dump, load\n",
    "from sklearn.metrics import mean_squared_error, f1_score, accuracy_score, confusion_matrix\n",
    "import seaborn as sns\n"
   ]
  },
  {
   "cell_type": "code",
   "execution_count": 2,
   "metadata": {},
   "outputs": [
    {
     "name": "stderr",
     "output_type": "stream",
     "text": [
      "/var/folders/z1/hf1tn63x7tl1qjxy1md9xy4w0000gn/T/ipykernel_17825/4153333985.py:2: DtypeWarning: Columns (0,1) have mixed types. Specify dtype option on import or set low_memory=False.\n",
      "  df = pd.read_csv('data/995,000_row_cleaned.csv')\n"
     ]
    },
    {
     "name": "stdout",
     "output_type": "stream",
     "text": [
      "type\n",
      "reliable      218564\n",
      "political     194518\n",
      "bias          133232\n",
      "fake          104883\n",
      "conspiracy     97314\n",
      "rumor          56445\n",
      "clickbait      27412\n",
      "junksci        14040\n",
      "satire         13160\n",
      "hate            8779\n",
      "Name: count, dtype: int64\n",
      "type\n",
      "1    649783\n",
      "0    218564\n",
      "Name: count, dtype: int64\n"
     ]
    },
    {
     "data": {
      "text/plain": [
       "['models/tfidf_vectorizer.joblib']"
      ]
     },
     "execution_count": 2,
     "metadata": {},
     "output_type": "execute_result"
    }
   ],
   "source": [
    "# Load data\n",
    "df = pd.read_csv('data/995,000_row_cleaned.csv')\n",
    "\n",
    "# Remove rows with ivalid values\n",
    "label_map = {\"fake\": 1, \"satire\":1, \"conspiracy\": 1, \"bias\": 1, \"rumor\": 1, \"junksci\": 1, \"hate\": 1,  \"clickbait\": 1,   \"political\": 1,\n",
    "             \"reliable\": 0} # unreliable isn't kept because it's not conclusive data \n",
    "df = df[df[\"type\"].isin(label_map.keys())]  # Keep only rows with valid labels\n",
    "print(df[\"type\"].value_counts())\n",
    "df[\"type\"] = df[\"type\"].map(label_map)\n",
    "print(df[\"type\"].value_counts())\n",
    "\n",
    "# Split data \n",
    "texts = df[\"content\"]\n",
    "y = df[\"type\"]\n",
    "\n",
    "# Create a instances of the TF-IDF vectorizer\n",
    "vectorizer = TfidfVectorizer(\n",
    "    max_features=10000,  # make sure the number of features is 10000\n",
    "    ngram_range=(1, 2),  # Use uni- and bi-grams\n",
    ")\n",
    "\n",
    "# Split data into train, validation, and test sets\n",
    "X_train, X_temp, y_train, y_temp = train_test_split(\n",
    "    texts, y, \n",
    "    test_size=0.2,\n",
    "    shuffle=False)\n",
    "X_val, X_test, y_val, y_test = train_test_split(\n",
    "    X_temp, y_temp, \n",
    "    test_size=0.5,\n",
    "    shuffle=False)\n",
    "\n",
    "# Fit and transform the vectorizer on the training data\n",
    "X_train = vectorizer.fit_transform(X_train)  \n",
    "X_val = vectorizer.transform(X_val)       \n",
    "X_test = vectorizer.transform(X_test)  \n",
    "\n",
    "# Save the fitted vectorizer\n",
    "dump(vectorizer, 'models/tfidf_vectorizer.joblib')"
   ]
  },
  {
   "cell_type": "code",
   "execution_count": 3,
   "metadata": {},
   "outputs": [
    {
     "name": "stdout",
     "output_type": "stream",
     "text": [
      "Epoch 1/10\n",
      "\u001b[1m679/679\u001b[0m \u001b[32m━━━━━━━━━━━━━━━━━━━━\u001b[0m\u001b[37m\u001b[0m \u001b[1m99s\u001b[0m 145ms/step - f1_score: 0.8599 - loss: 0.2107 - precision: 0.9686 - recall: 0.9145 - weighted_f1_score: 0.6691 - val_f1_score: 0.8719 - val_loss: 0.1306 - val_precision: 0.9804 - val_recall: 0.9517 - val_weighted_f1_score: 0.8719\n",
      "Epoch 2/10\n",
      "\u001b[1m679/679\u001b[0m \u001b[32m━━━━━━━━━━━━━━━━━━━━\u001b[0m\u001b[37m\u001b[0m \u001b[1m99s\u001b[0m 146ms/step - f1_score: 0.8908 - loss: 0.0910 - precision: 0.9869 - recall: 0.9705 - weighted_f1_score: 0.7289 - val_f1_score: 0.8863 - val_loss: 0.1085 - val_precision: 0.9805 - val_recall: 0.9624 - val_weighted_f1_score: 0.8863\n",
      "Epoch 3/10\n",
      "\u001b[1m679/679\u001b[0m \u001b[32m━━━━━━━━━━━━━━━━━━━━\u001b[0m\u001b[37m\u001b[0m \u001b[1m99s\u001b[0m 146ms/step - f1_score: 0.9057 - loss: 0.0380 - precision: 0.9956 - recall: 0.9878 - weighted_f1_score: 0.7601 - val_f1_score: 0.8965 - val_loss: 0.1128 - val_precision: 0.9785 - val_recall: 0.9696 - val_weighted_f1_score: 0.8965\n",
      "Epoch 4/10\n",
      "\u001b[1m679/679\u001b[0m \u001b[32m━━━━━━━━━━━━━━━━━━━━\u001b[0m\u001b[37m\u001b[0m \u001b[1m101s\u001b[0m 149ms/step - f1_score: 0.9157 - loss: 0.0201 - precision: 0.9976 - recall: 0.9934 - weighted_f1_score: 0.7817 - val_f1_score: 0.9073 - val_loss: 0.1251 - val_precision: 0.9744 - val_recall: 0.9778 - val_weighted_f1_score: 0.9073\n",
      "Epoch 5/10\n",
      "\u001b[1m679/679\u001b[0m \u001b[32m━━━━━━━━━━━━━━━━━━━━\u001b[0m\u001b[37m\u001b[0m \u001b[1m100s\u001b[0m 147ms/step - f1_score: 0.9237 - loss: 0.0136 - precision: 0.9983 - recall: 0.9956 - weighted_f1_score: 0.7996 - val_f1_score: 0.9126 - val_loss: 0.1266 - val_precision: 0.9773 - val_recall: 0.9738 - val_weighted_f1_score: 0.9126\n",
      "Epoch 6/10\n",
      "\u001b[1m679/679\u001b[0m \u001b[32m━━━━━━━━━━━━━━━━━━━━\u001b[0m\u001b[37m\u001b[0m \u001b[1m98s\u001b[0m 144ms/step - f1_score: 0.9256 - loss: 0.0109 - precision: 0.9987 - recall: 0.9967 - weighted_f1_score: 0.8039 - val_f1_score: 0.9211 - val_loss: 0.1470 - val_precision: 0.9770 - val_recall: 0.9742 - val_weighted_f1_score: 0.9211\n",
      "Epoch 7/10\n",
      "\u001b[1m679/679\u001b[0m \u001b[32m━━━━━━━━━━━━━━━━━━━━\u001b[0m\u001b[37m\u001b[0m \u001b[1m99s\u001b[0m 146ms/step - f1_score: 0.9319 - loss: 0.0093 - precision: 0.9989 - recall: 0.9972 - weighted_f1_score: 0.8186 - val_f1_score: 0.9266 - val_loss: 0.1660 - val_precision: 0.9782 - val_recall: 0.9715 - val_weighted_f1_score: 0.9266\n",
      "Epoch 8/10\n",
      "\u001b[1m679/679\u001b[0m \u001b[32m━━━━━━━━━━━━━━━━━━━━\u001b[0m\u001b[37m\u001b[0m \u001b[1m100s\u001b[0m 148ms/step - f1_score: 0.9344 - loss: 0.0079 - precision: 0.9990 - recall: 0.9975 - weighted_f1_score: 0.8245 - val_f1_score: 0.9182 - val_loss: 0.1440 - val_precision: 0.9754 - val_recall: 0.9758 - val_weighted_f1_score: 0.9182\n",
      "Epoch 9/10\n",
      "\u001b[1m679/679\u001b[0m \u001b[32m━━━━━━━━━━━━━━━━━━━━\u001b[0m\u001b[37m\u001b[0m \u001b[1m100s\u001b[0m 148ms/step - f1_score: 0.9339 - loss: 0.0072 - precision: 0.9991 - recall: 0.9979 - weighted_f1_score: 0.8232 - val_f1_score: 0.9243 - val_loss: 0.1473 - val_precision: 0.9753 - val_recall: 0.9771 - val_weighted_f1_score: 0.9243\n",
      "Epoch 10/10\n",
      "\u001b[1m679/679\u001b[0m \u001b[32m━━━━━━━━━━━━━━━━━━━━\u001b[0m\u001b[37m\u001b[0m \u001b[1m101s\u001b[0m 149ms/step - f1_score: 0.9377 - loss: 0.0065 - precision: 0.9992 - recall: 0.9982 - weighted_f1_score: 0.8323 - val_f1_score: 0.9329 - val_loss: 0.1668 - val_precision: 0.9772 - val_recall: 0.9739 - val_weighted_f1_score: 0.9329\n"
     ]
    }
   ],
   "source": [
    "# Standard model\n",
    "# Define the model\n",
    "input_layer = Input(shape=(X_train.shape[1],), sparse=True)\n",
    "x1 = layers.Dense(1000, activation=\"relu\")(input_layer) # 1st hidden layer with 1000 neurons\n",
    "x1 = layers.Dropout(0.4)(x1)                            # Dropout layer to prevent overfitting \n",
    "x2 = layers.Dense(500, activation=\"relu\")(x1)           # 2nd hidden layer with 500 neurons\n",
    "x2 = layers.Dropout(0.2)(x2)                            # Dropout layer to prevent overfitting\n",
    "x3 = layers.Dense(100, activation=\"relu\")(x2)           # 3rd hidden layer with 100 neurons\n",
    "x4 = layers.Dense(25, activation=\"relu\")(x3)            # 4th hidden layer with 25 neurons\n",
    "output = layers.Dense(1, activation=\"sigmoid\")(x4)      # Output layer with 1 neuron and sigmoid to force binary\n",
    "\n",
    "# Create the model\n",
    "NN = tf.keras.models.Model(inputs=input_layer, outputs=output)\n",
    "\n",
    "#Initialize the NN\n",
    "NN.compile(\n",
    "    optimizer = \"adam\",\n",
    "    loss = \"binary_crossentropy\",\n",
    "    metrics=[\n",
    "        tf.keras.metrics.Precision(),\n",
    "        tf.keras.metrics.Recall(),\n",
    "        tf.keras.metrics.F1Score()],\n",
    "    weighted_metrics=[\"f1_score\"],  # Weight the F1 metric higher\n",
    ")\n",
    "\n",
    "# Define the callbacks for early stopping\n",
    "callbacks = [\n",
    "    tf.keras.callbacks.EarlyStopping(\n",
    "        monitor='val_f1_score',     # Use F1 for early stopping\n",
    "        mode='max',                 # We want to \"maximize\" the F1 score  \n",
    "        patience=4,                 # If theres no improvements after 4 epochs, stop\n",
    "        restore_best_weights=True\n",
    "    )\n",
    "]\n",
    "\n",
    "# Define the weights for the classes\n",
    "weight_for_0 = len(y_train) / (2.0 * (y_train == 0).sum())\n",
    "weight_for_1 = len(y_train) / (2.0 * (y_train == 1).sum())\n",
    "class_weights = {0: weight_for_0, 1: weight_for_1}\n",
    "\n",
    "#Train the NN\n",
    "history = NN.fit(\n",
    "    X_train,y_train,                    # Trainin data as input and expected output\n",
    "    validation_data = (X_val,y_val),    # Data for validation\n",
    "    epochs = 10,                        # Number of iterations over the entire dataset\n",
    "    batch_size = 1024,                  # Number of samples per gradient update\n",
    "    callbacks=callbacks,                # Use the callback\n",
    "    class_weight=class_weights          # Use the class weights\n",
    ")"
   ]
  },
  {
   "cell_type": "code",
   "execution_count": 4,
   "metadata": {},
   "outputs": [],
   "source": [
    "# Save the model\n",
    "output_path = \"models/nn_classifier.keras\"\n",
    "NN.save(output_path) "
   ]
  },
  {
   "cell_type": "code",
   "execution_count": null,
   "metadata": {},
   "outputs": [],
   "source": [
    "# Load the model\n",
    "input_path = \"models/nn_classifier.keras\"\n",
    "NN = tf.keras.models.load_model(input_path)"
   ]
  },
  {
   "cell_type": "code",
   "execution_count": 5,
   "metadata": {},
   "outputs": [],
   "source": [
    "# Function to create a confusion matrix \n",
    "def conf_matrix(y_test, pred_test):    \n",
    "    \n",
    "    # Creating a confusion matrix\n",
    "    con_mat = confusion_matrix(y_test, pred_test)\n",
    "    con_mat = pd.DataFrame(con_mat, range(2), range(2))\n",
    "   \n",
    "    #Ploting the confusion matrix\n",
    "    plt.figure(figsize=(6,6))\n",
    "\n",
    "    plt.title('Confusion Matrix')\n",
    "    sns.set_theme(font_scale=1.5) \n",
    "    sns.heatmap(con_mat, annot=True, annot_kws={\"size\": 16}, fmt='g', cmap='Blues', cbar=False)\n",
    "    plt.xlabel('Predicted Values')\n",
    "    plt.ylabel('Actual Values')\n",
    "    "
   ]
  },
  {
   "cell_type": "code",
   "execution_count": 6,
   "metadata": {},
   "outputs": [
    {
     "name": "stdout",
     "output_type": "stream",
     "text": [
      "\u001b[1m679/679\u001b[0m \u001b[32m━━━━━━━━━━━━━━━━━━━━\u001b[0m\u001b[37m\u001b[0m \u001b[1m7s\u001b[0m 10ms/step\n",
      "NeuralNetwork MSE:  0.03455979749560356\n",
      "NeuralNetwork accuracy:  0.9654402026832498\n",
      "NeuralNetwork F1 score:  0.9764381668721097\n"
     ]
    },
    {
     "data": {
      "image/png": "[encoded data removed]",
      "text/plain": [
       "<Figure size 600x600 with 1 Axes>"
      ]
     },
     "metadata": {},
     "output_type": "display_data"
    }
   ],
   "source": [
    "y_pred = NN.predict(X_test, batch_size=128)\n",
    "y_pred = np.round(y_pred).flatten()\n",
    "\n",
    "print(\"NeuralNetwork MSE: \", mean_squared_error(y_test, y_pred))\n",
    "print(\"NeuralNetwork accuracy: \", accuracy_score(y_test, y_pred))\n",
    "print(\"NeuralNetwork F1 score: \", f1_score(y_test, y_pred))\n",
    "conf_matrix(y_test, y_pred)"
   ]
  }
 ],
 "metadata": {
  "kernelspec": {
   "display_name": "sng",
   "language": "python",
   "name": "python3"
  },
  "language_info": {
   "codemirror_mode": {
    "name": "ipython",
    "version": 3
   },
   "file_extension": ".py",
   "mimetype": "text/x-python",
   "name": "python",
   "nbconvert_exporter": "python",
   "pygments_lexer": "ipython3",
   "version": "3.12.9"
  }
 },
 "nbformat": 4,
 "nbformat_minor": 2
}
