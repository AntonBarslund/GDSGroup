{
 "cells": [
  {
   "cell_type": "code",
   "execution_count": null,
   "metadata": {},
   "outputs": [
    {
     "name": "stderr",
     "output_type": "stream",
     "text": [
      "/opt/miniconda3/envs/GDSvenv/lib/python3.13/site-packages/tqdm/auto.py:21: TqdmWarning: IProgress not found. Please update jupyter and ipywidgets. See https://ipywidgets.readthedocs.io/en/stable/user_install.html\n",
      "  from .autonotebook import tqdm as notebook_tqdm\n"
     ]
    }
   ],
   "source": [
    "import pandas as pd\n",
    "import numpy as np\n",
    "import ast\n",
    "from tqdm import tqdm\n",
    "import swifter\n",
    "import json\n",
    "\n",
    "from sklearn.feature_extraction.text import TfidfVectorizer\n",
    "from sklearn.feature_extraction.text import CountVectorizer\n",
    "from sklearn.model_selection import train_test_split\n",
    "\n",
    "tqdm.pandas()"
   ]
  },
  {
   "cell_type": "code",
   "execution_count": 3,
   "metadata": {},
   "outputs": [],
   "source": [
    "test_df = pd.read_csv('data/news_sample_6.csv')"
   ]
  },
  {
   "cell_type": "code",
   "execution_count": 10,
   "metadata": {},
   "outputs": [
    {
     "name": "stderr",
     "output_type": "stream",
     "text": [
      "/var/folders/z1/hf1tn63x7tl1qjxy1md9xy4w0000gn/T/ipykernel_50249/1234656882.py:1: DtypeWarning: Columns (0,1) have mixed types. Specify dtype option on import or set low_memory=False.\n",
      "  df = pd.read_csv('data/995,000_row_cleaned.csv')\n"
     ]
    }
   ],
   "source": [
    "df = pd.read_csv('data/995,000_row_cleaned.csv')"
   ]
  },
  {
   "cell_type": "code",
   "execution_count": null,
   "metadata": {},
   "outputs": [
    {
     "name": "stdout",
     "output_type": "stream",
     "text": [
      "['political' 'fake' 'satire' 'reliable' 'conspiracy' 'unreliable' 'bias'\n",
      " 'rumor' 'clickbait' 'hate' 'junksci']\n",
      "['political' 'fake' 'satire' 'reliable' 'conspiracy' 'unreliable' 'bias'\n",
      " 'rumor' 'clickbait' 'hate' 'junksci']\n"
     ]
    }
   ],
   "source": [
    "# Remove rows with ivalid values\n",
    "label_map = {\"fake\": 1, \"satire\":1, \"conspiracy\": 1, \"unreliable\": 1, \"bias\": 1, \"rumor\": 1, \"junksci\": 1, \"hate\": 1,\n",
    "             \"reliable\": 0,  \"clickbait\": 0,   \"political\": 0}\n",
    "df = df[df[\"type\"].isin(label_map.keys())]  # Keep only rows with valid labels\n",
    "print(df[\"type\"].unique())\n"
   ]
  },
  {
   "cell_type": "code",
   "execution_count": 15,
   "metadata": {},
   "outputs": [],
   "source": [
    "# Label all to either 1 or 0\n",
    "labels = df[\"type\"].map(label_map)\n",
    "\n",
    "# Using Bag of Words\n",
    "texts = df[\"content\"]\n",
    "vectorizer = CountVectorizer(max_features=10000)  # Limit to top 10,000 words\n",
    "X = vectorizer.fit_transform(texts)"
   ]
  },
  {
   "cell_type": "code",
   "execution_count": null,
   "metadata": {},
   "outputs": [],
   "source": [
    "# Load the dataset with mapped labels\n",
    "df = pd.read_csv('data/news_sample_7.csv')\n",
    "\n",
    "# Separate the two classes\n",
    "type_0 = df[df['type'] == 0]\n",
    "type_1 = df[df['type'] == 1]\n",
    "\n",
    "# Check class sizes\n",
    "count_0 = len(type_0)\n",
    "count_1 = len(type_1)\n",
    "\n",
    "# Identify minority and majority classes\n",
    "if count_0 < count_1:\n",
    "    # Type 0 is minority\n",
    "    min_count = count_0\n",
    "    majority_class = type_1\n",
    "    minority_class = type_0\n",
    "    print(\"Type 0 is minority\")\n",
    "else:\n",
    "    # Type 1 is minority\n",
    "    min_count = count_1\n",
    "    majority_class = type_0\n",
    "    minority_class = type_1\n",
    "    print(\"Type 1 is minority\")\n",
    "\n",
    "# Undersample majority class\n",
    "majority_undersampled = majority_class.sample(n=min_count, random_state=42)\n",
    "\n",
    "# Combine the undersampled majority with minority\n",
    "balanced_df = pd.concat([majority_undersampled, minority_class])\n",
    "\n",
    "# Shuffle the data\n",
    "balanced_df = balanced_df.sample(frac=1, random_state=42).reset_index(drop=True)\n",
    "\n",
    "# Verify the new distribution\n",
    "print(\"\\nBalanced distribution:\")\n",
    "print(balanced_df['type'].value_counts())\n",
    "\n",
    "# Save the balanced dataset\n",
    "balanced_df.to_csv('data/news_sample_8.csv', index=False)"
   ]
  },
  {
   "cell_type": "code",
   "execution_count": null,
   "metadata": {},
   "outputs": [
    {
     "name": "stdout",
     "output_type": "stream",
     "text": [
      "(903679, 10000)\n"
     ]
    }
   ],
   "source": [
    "# Load the balanced dataset\n",
    "balanced_df = pd.read_csv('data/news_sample_8.csv')\n",
    "\n",
    "# First split: 90% temp, 10% test\n",
    "temp_df, test_df = train_test_split(balanced_df, test_size=0.1, random_state=42, stratify=balanced_df['type'])\n",
    "\n",
    "# Second split: 8/9 of temp for train (80% of original), 1/9 of temp for validation (10% of original)\n",
    "train_df, val_df = train_test_split(temp_df, test_size=1/9, random_state=42, stratify=temp_df['type'])\n",
    "\n",
    "# Verify the sizes\n",
    "total = len(balanced_df)\n",
    "print(f\"Total samples: {total}\")\n",
    "print(f\"Train samples: {len(train_df)} ({len(train_df)/total:.2%})\")\n",
    "print(f\"Validation samples: {len(val_df)} ({len(val_df)/total:.2%})\")\n",
    "print(f\"Test samples: {len(test_df)} ({len(test_df)/total:.2%})\")\n",
    "\n",
    "# Verify distribution of classes in each split\n",
    "print(\"\\nClass distribution:\")\n",
    "print(\"Train:\", train_df['type'].value_counts(normalize=True))\n",
    "print(\"Validation:\", val_df['type'].value_counts(normalize=True))\n",
    "print(\"Test:\", test_df['type'].value_counts(normalize=True))\n",
    "\n",
    "# Save splits to CSV files\n",
    "train_df.to_csv('data/train_data.csv', index=False)\n",
    "val_df.to_csv('data/val_data.csv', index=False)\n",
    "test_df.to_csv('data/test_data.csv', index=False)"
   ]
  }
 ],
 "metadata": {
  "kernelspec": {
   "display_name": "GDSvenv",
   "language": "python",
   "name": "python3"
  },
  "language_info": {
   "codemirror_mode": {
    "name": "ipython",
    "version": 3
   },
   "file_extension": ".py",
   "mimetype": "text/x-python",
   "name": "python",
   "nbconvert_exporter": "python",
   "pygments_lexer": "ipython3",
   "version": "3.13.2"
  }
 },
 "nbformat": 4,
 "nbformat_minor": 2
}
