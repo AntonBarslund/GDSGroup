{
 "cells": [
  {
   "cell_type": "code",
   "execution_count": 7,
   "metadata": {},
   "outputs": [],
   "source": [
    "import numpy as np\n",
    "import pandas as pd\n",
    "import tensorflow as tf\n",
    "import matplotlib.pyplot as plt\n",
    "from joblib import load\n",
    "from cleantext.clean import clean\n",
    "import re\n",
    "from nltk.corpus import stopwords\n",
    "from nltk.tokenize import word_tokenize\n",
    "from nltk.stem import PorterStemmer\n",
    "from tqdm import tqdm\n",
    "from sklearn.metrics import mean_squared_error, f1_score, accuracy_score, confusion_matrix\n",
    "import seaborn as sns\n",
    "import swifter\n",
    "\n",
    "# initialize tqdm\n",
    "tqdm.pandas()"
   ]
  },
  {
   "cell_type": "code",
   "execution_count": null,
   "metadata": {},
   "outputs": [
    {
     "name": "stderr",
     "output_type": "stream",
     "text": [
      "Pandas Apply: 100%|██████████| 10240/10240 [00:00<00:00, 43617.15it/s]\n",
      "Pandas Apply: 100%|██████████| 10240/10240 [00:00<00:00, 90566.61it/s]\n",
      "Pandas Apply: 100%|██████████| 10240/10240 [00:00<00:00, 20028.80it/s]\n",
      "Pandas Apply: 100%|██████████| 10240/10240 [00:00<00:00, 43633.14it/s]\n",
      "Pandas Apply: 100%|██████████| 10240/10240 [00:00<00:00, 873493.45it/s]\n",
      "Pandas Apply: 100%|██████████| 10240/10240 [00:00<00:00, 18651.58it/s]\n"
     ]
    }
   ],
   "source": [
    "# Load and preprocess the content\n",
    "df = pd.read_csv('data/liar_dataset/train.tsv', sep='\\t', header=None)\n",
    "\n",
    "def clean_space(txt):\n",
    "    return clean(str(txt), \n",
    "                 fix_unicode=True, \n",
    "                 to_ascii=True, \n",
    "                 lower=True, \n",
    "                 no_line_breaks=True,\n",
    "                 lang=\"en\")\n",
    "\n",
    "patterns = {\n",
    "    r\"[\\w]+ [\\d]+, [\\d]+\": \"\",                     # DATE method 1: \"January 15, 2023\"\n",
    "    r\"[\\d]+[\\w]+ [\\w]+ [\\d]+\": \"\",                 # DATE method 2: \"15th January 2023\" \n",
    "    r\"[\\d]+\\/?-?\\.?[\\d]+\\/?-?\\.?[\\d]+\": \"\",        # DATE method 3: \"01/15/2023\", \"01-15-2023\", \"01.15.2023\"\n",
    "    r\"[\\w]+ \\d\\d?[\\w]?[\\w]?,? [\\d]{2,4}\": \"\",      # DATE method 4: \"January 15th, 2023\", \"Jan 1, 2023\"\n",
    "    r\"([\\d]{1,2}[\\w]*) ([\\w]*),? ([\\d]{2,4})\": \"\", # DATE method 5: \"15 January, 2023\", capturing day, month, year\n",
    "    r\"\\b(\\d+(st|nd|rd|th|s))\\b\": \"\"                # NUM: Ordinal numbers like \"1st\", \"2nd\", \"3rd\", \"4th\" or plural suffixes\n",
    "}\n",
    "# Creates a list of tuples containing compiled_regex and replacement_string\n",
    "compiled_patterns = [(re.compile(pattern), replacement) for pattern, replacement in patterns.items()]\n",
    "\n",
    "# Function that remove all date patterns from the text \n",
    "def remove_dates(txt):\n",
    "    for pattern, replacement in compiled_patterns:\n",
    "        txt = re.sub(pattern, replacement, txt)\n",
    "    return txt\n",
    "\n",
    "def remove_urls(txt):\n",
    "    return clean(txt, \n",
    "        no_urls=True,                    # Remove all URLs from text\n",
    "        no_emails=True,                  # Remove email addresses\n",
    "        no_phone_numbers=True,           # Remove phone number patterns\n",
    "        no_numbers=True,                 # Remove standalone numbers\n",
    "        no_digits=True,                  # Remove individual digits\n",
    "        no_currency_symbols=True,        # Remove currency symbols like $, €, etc.\n",
    "        lower=False,                     # Preserve original case \n",
    "        no_punct=True,                   # Remove all punctuation\n",
    "        replace_with_punct=\"\",           # Replace punctuation with empty string\n",
    "        replace_with_url=\"URL\",          # Replace URLs with the token \"URL\"\n",
    "        replace_with_email=\"EMAIL\",      # Replace emails with the token \"EMAIL\"\n",
    "        replace_with_phone_number=\"\",    # Replace phone numbers with empty string\n",
    "        replace_with_number=\"NUM\",       # Replace numbers with the token \"NUM\"\n",
    "        replace_with_digit=\"0\",          # Replace digits with \"0\"\n",
    "        replace_with_currency_symbol=\"\", # Replace currency symbols with empty string\n",
    "        lang=\"en\"                        # Process as English language text\n",
    "    )\n",
    "\n",
    "stop_words = set(stopwords.words('english'))\n",
    "\n",
    "# Function to filter out stop words from a list of tokens\n",
    "def remove_stop_words(lst):\n",
    "    # The list comprehension keeps only words that are not in the stop_words set\n",
    "    return [word for word in lst if word.lower() not in stop_words]\n",
    "\n",
    "# Initialize the Porter Stemming algorithm which reduces words to their root/base form\n",
    "stemmer = PorterStemmer()\n",
    "def stemming(lst):\n",
    "    # Each word is reduced to its stem using the Porter algorithm\n",
    "    return [stemmer.stem(word) for word in lst]\n",
    "\n",
    "\n",
    "\n",
    "# Apply the clean_space function to each row in the content column\n",
    "df[2] = df[2].astype(str).swifter.progress_bar(True).apply(clean_space)\n",
    "# Apply the date removal function to each row in the content column\n",
    "df[2] = df[2].astype(str).swifter.progress_bar(True).apply(remove_dates)\n",
    "# Apply text cleaning to remove specific elements from each document\n",
    "# Using swifter to parallelize processing for better performance\n",
    "df[2] = df[2].astype(str).swifter.progress_bar(True).apply(remove_urls)\n",
    "# Apply the word tokenize function to each row in the content column\n",
    "df[2] = df[2].astype(str).swifter.progress_bar(True).apply(word_tokenize)\n",
    "# Remove stop words from each article in the Fake news dataset\n",
    "df[2] = df[2].swifter.progress_bar(True).apply(remove_stop_words)\n",
    "# Apply stemming to each article in the dataset\n",
    "df[2] = df[2].swifter.progress_bar(True).apply(stemming)\n",
    "\n",
    "label_map = {\"half-true\": 1, \"false\":1, \"barely-true\": 1, \"pants-fire\": 1,\n",
    "             \"true\": 0, \"mostly-true\": 0} \n",
    "df = df[df[1].isin(label_map.keys())]  # Keep only rows with valid labels\n",
    "df[1] = df[1].map(label_map)\n",
    "\n",
    "# Load the vecorizers\n",
    "BoWvextorizer = load('models/BoWvectorizer.joblib')\n",
    "TFIDFvectorizer = load('models/tfidf_vectorizer.joblib')"
   ]
  },
  {
   "cell_type": "code",
   "execution_count": 9,
   "metadata": {},
   "outputs": [],
   "source": [
    "# Function to create a confusion matrix \n",
    "def conf_matrix(y_test, pred_test):    \n",
    "    \n",
    "    # Creating a confusion matrix\n",
    "    con_mat = confusion_matrix(y_test, pred_test)\n",
    "    con_mat = pd.DataFrame(con_mat, range(2), range(2))\n",
    "   \n",
    "    #Ploting the confusion matrix\n",
    "    plt.figure(figsize=(6,6))\n",
    "\n",
    "    plt.title('Confusion Matrix')\n",
    "    sns.set(font_scale=1.5) \n",
    "    sns.heatmap(con_mat, annot=True, annot_kws={\"size\": 16}, fmt='g', cmap='Blues', cbar=False)\n",
    "    plt.xlabel('Predicted Values')\n",
    "    plt.ylabel('Actual Values')\n",
    "    "
   ]
  },
  {
   "cell_type": "code",
   "execution_count": null,
   "metadata": {},
   "outputs": [
    {
     "name": "stderr",
     "output_type": "stream",
     "text": [
      "Pandas Apply: 100%|██████████| 10240/10240 [00:00<00:00, 2788758.71it/s]"
     ]
    },
    {
     "name": "stdout",
     "output_type": "stream",
     "text": [
      "LogisticRegression MSE:  0.35537109375\n",
      "LogisticRegression accuracy:  0.64462890625\n",
      "LogisticRegression F1 score:  0.7838431838431839\n"
     ]
    },
    {
     "name": "stderr",
     "output_type": "stream",
     "text": [
      "\n"
     ]
    },
    {
     "data": {
      "image/png": "[encoded data removed]",
      "text/plain": [
       "<Figure size 600x600 with 1 Axes>"
      ]
     },
     "metadata": {},
     "output_type": "display_data"
    }
   ],
   "source": [
    "# Evaluate the first logistic regression model\n",
    "input_path = \"models/logistic_regression_classifier.joblib\"\n",
    "model = load(input_path)\n",
    "\n",
    "# Transform the text data to the correct format\n",
    "X = BoWvextorizer.transform(df[2].swifter.progress_bar(True).apply(lambda x: ' '.join(x)))\n",
    "y = df[1]\n",
    "\n",
    "# Evaluate the model\n",
    "y_pred = model.predict(X)\n",
    "mse = ((y-y_pred)**2).mean()\n",
    "\n",
    "print(\"LogisticRegression MSE: \", mse)\n",
    "print(\"LogisticRegression accuracy: \", accuracy_score(y, y_pred))\n",
    "print(\"LogisticRegression F1 score: \", f1_score(y, y_pred))\n",
    "conf_matrix(y, y_pred)\n"
   ]
  },
  {
   "cell_type": "code",
   "execution_count": null,
   "metadata": {},
   "outputs": [
    {
     "name": "stderr",
     "output_type": "stream",
     "text": [
      "Pandas Apply: 100%|██████████| 10240/10240 [00:00<00:00, 2339944.05it/s]\n"
     ]
    },
    {
     "name": "stdout",
     "output_type": "stream",
     "text": [
      "\u001b[1m80/80\u001b[0m \u001b[32m━━━━━━━━━━━━━━━━━━━━\u001b[0m\u001b[37m\u001b[0m \u001b[1m0s\u001b[0m 2ms/step - f1_score: 0.7785 - loss: 3.7337 - precision_1: 0.6387 - recall_1: 0.9392 - weighted_f1_score: 0.7785\n",
      "* Test Loss: 3.6800\n",
      "* Test Accuracy: 0.6440\n",
      "* Test Precision: 0.9393\n",
      "* Test Recall: 0.7833\n",
      "* Test AUC: 0.7833\n",
      "* Test F1 Score: 0.7833\n"
     ]
    }
   ],
   "source": [
    "# Load the NN model\n",
    "input_path = \"models/nn_classifier.keras\"\n",
    "NN = tf.keras.models.load_model(input_path)\n",
    "\n",
    "# Transform the text data to the correct format\n",
    "X = TFIDFvectorizer.transform(df[2].swifter.progress_bar(True).apply(lambda x: ' '.join(x)))\n",
    "y = df[1]\n",
    "\n",
    "test_results = NN.evaluate(X, y, verbose=1, batch_size=128)\n",
    "print(f\"* Test Loss: {test_results[0]:.4f}\")\n",
    "print(f\"* Test Accuracy: {test_results[1]:.4f}\")\n",
    "print(f\"* Test Precision: {test_results[2]:.4f}\")\n",
    "print(f\"* Test Recall: {test_results[3]:.4f}\")\n",
    "print(f\"* Test AUC: {test_results[4]:.4f}\")\n",
    "print(f\"* Test F1 Score: {test_results[5]:.4f}\")"
   ]
  },
  {
   "cell_type": "code",
   "execution_count": 12,
   "metadata": {},
   "outputs": [
    {
     "name": "stdout",
     "output_type": "stream",
     "text": [
      "\u001b[1m80/80\u001b[0m \u001b[32m━━━━━━━━━━━━━━━━━━━━\u001b[0m\u001b[37m\u001b[0m \u001b[1m0s\u001b[0m 2ms/step\n",
      "LogisticRegression MSE:  0.3739257752895355\n",
      "LogisticRegression accuracy:  0.62607421875\n",
      "LogisticRegression F1 score:  0.7640934015156182\n"
     ]
    },
    {
     "data": {
      "image/png": "[encoded data removed]",
      "text/plain": [
       "<Figure size 600x600 with 1 Axes>"
      ]
     },
     "metadata": {},
     "output_type": "display_data"
    }
   ],
   "source": [
    "y_pred = NN.predict(X, batch_size=128)\n",
    "y_pred = np.round(y_pred).flatten()\n",
    "\n",
    "print(\"LogisticRegression MSE: \", mean_squared_error(y, y_pred))\n",
    "print(\"LogisticRegression accuracy: \", accuracy_score(y, y_pred))\n",
    "print(\"LogisticRegression F1 score: \", f1_score(y, y_pred))\n",
    "conf_matrix(y, y_pred)"
   ]
  }
 ],
 "metadata": {
  "kernelspec": {
   "display_name": "sng",
   "language": "python",
   "name": "python3"
  },
  "language_info": {
   "codemirror_mode": {
    "name": "ipython",
    "version": 3
   },
   "file_extension": ".py",
   "mimetype": "text/x-python",
   "name": "python",
   "nbconvert_exporter": "python",
   "pygments_lexer": "ipython3",
   "version": "3.12.9"
  }
 },
 "nbformat": 4,
 "nbformat_minor": 2
}
