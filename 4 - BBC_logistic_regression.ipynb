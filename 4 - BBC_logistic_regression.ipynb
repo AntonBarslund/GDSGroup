{
 "cells": [
  {
   "cell_type": "code",
   "execution_count": 3,
   "metadata": {},
   "outputs": [],
   "source": [
    "import pandas as pd\n",
    "import numpy as np\n",
    "from tqdm import tqdm\n",
    "from sklearn.feature_extraction.text import CountVectorizer\n",
    "from sklearn.model_selection import train_test_split\n",
    "from sklearn.linear_model import LogisticRegression\n",
    "from joblib import dump\n",
    "import matplotlib.pyplot as plt\n",
    "from sklearn.metrics import f1_score, accuracy_score, confusion_matrix\n",
    "import seaborn as sns\n",
    "\n",
    "# initialize tqdm\n",
    "tqdm.pandas()"
   ]
  },
  {
   "cell_type": "code",
   "execution_count": 6,
   "metadata": {},
   "outputs": [],
   "source": [
    "# Define function to load and preprocess BBC data\n",
    "def load_and_preprocess_the_BBC_data(file_path):\n",
    "    \"\"\"Load BBC news data and prepare it for concatenation.\"\"\"\n",
    "    df = pd.read_csv(file_path, low_memory=False) \n",
    "    df[\"type\"] = 0\n",
    "    df = df.dropna(subset=[\"content\"])\n",
    "    # Return only necessary columns\n",
    "    return df[[\"content\", \"type\"]]\n",
    "\n",
    "bbc_df = load_and_preprocess_the_BBC_data(\"data/bbc_articles_cleaned.csv\")"
   ]
  },
  {
   "cell_type": "code",
   "execution_count": 7,
   "metadata": {},
   "outputs": [
    {
     "name": "stderr",
     "output_type": "stream",
     "text": [
      "/var/folders/z1/hf1tn63x7tl1qjxy1md9xy4w0000gn/T/ipykernel_17627/708885610.py:2: DtypeWarning: Columns (0,1) have mixed types. Specify dtype option on import or set low_memory=False.\n",
      "  df = pd.read_csv('data/995,000_row_cleaned.csv')\n"
     ]
    },
    {
     "name": "stdout",
     "output_type": "stream",
     "text": [
      "type\n",
      "reliable      218564\n",
      "political     194518\n",
      "bias          133232\n",
      "fake          104883\n",
      "conspiracy     97314\n",
      "rumor          56445\n",
      "clickbait      27412\n",
      "junksci        14040\n",
      "satire         13160\n",
      "hate            8779\n",
      "Name: count, dtype: int64\n",
      "type\n",
      "1    649783\n",
      "0    218564\n",
      "Name: count, dtype: int64\n"
     ]
    },
    {
     "data": {
      "text/plain": [
       "['models/logistic_regression_classifier.joblib']"
      ]
     },
     "execution_count": 7,
     "metadata": {},
     "output_type": "execute_result"
    }
   ],
   "source": [
    "# Only remove unreliable labels\n",
    "df = pd.read_csv('data/995,000_row_cleaned.csv')\n",
    "\n",
    "# Remove rows with ivalid values\n",
    "label_map = {\"fake\": 1, \"satire\":1, \"conspiracy\": 1, \"bias\": 1, \"rumor\": 1, \"junksci\": 1, \"hate\": 1,  \"clickbait\": 1,   \"political\": 1,\n",
    "             \"reliable\": 0}\n",
    "df = df[df[\"type\"].isin(label_map.keys())]  # Keep only rows with valid labels\n",
    "print(df[\"type\"].value_counts())\n",
    "df[\"type\"] = df[\"type\"].map(label_map)\n",
    "print(df[\"type\"].value_counts())\n",
    "\n",
    "# Seperate data into training, validation, and test sets\n",
    "y = pd.concat([pd.Series(df[\"type\"]), pd.Series(bbc_df[\"type\"])], ignore_index=True)\n",
    "X = pd.concat([pd.Series(df[\"content\"]), pd.Series(bbc_df[\"content\"])], ignore_index=True)\n",
    "\n",
    "X_train, X_temp, y_train, y_temp = train_test_split(X, y, test_size=0.2, shuffle=False)\n",
    "X_val, X_test, y_val, y_test = train_test_split(X_temp, y_temp, test_size=0.5, shuffle=False)\n",
    "\n",
    "# Transform the data with Bag of Words\n",
    "vectorizer = CountVectorizer(max_features=10000)\n",
    "X_train = vectorizer.fit_transform(X_train)  \n",
    "X_val = vectorizer.transform(X_val)          \n",
    "X_test = vectorizer.transform(X_test)  \n",
    "dump(vectorizer, 'models/BBCBoWvectorizer.joblib')\n",
    "\n",
    "# Train the model\n",
    "model = LogisticRegression(max_iter=1000, verbose=1)\n",
    "model = model.fit(X_train, y_train)\n",
    "# Save the model\n",
    "dump(model, 'models/BBClogistic_regression_classifier.joblib')\n",
    "\n"
   ]
  },
  {
   "cell_type": "code",
   "execution_count": 8,
   "metadata": {},
   "outputs": [],
   "source": [
    "# Function to create a confusion matrix \n",
    "def conf_matrix(y_test, pred_test):    \n",
    "    # Creating a confusion matrix\n",
    "    con_mat = confusion_matrix(y_test, pred_test)\n",
    "    con_mat = pd.DataFrame(con_mat, range(2), range(2))\n",
    "\n",
    "    #Ploting the confusion matrix\n",
    "    plt.figure(figsize=(6,6))\n",
    "    plt.title('Confusion Matrix')\n",
    "    sns.set_theme(font_scale=1.5) \n",
    "    sns.heatmap(con_mat, annot=True, annot_kws={\"size\": 16}, fmt='g', cmap='Blues', cbar=False)\n",
    "    plt.xlabel('Predicted Values')\n",
    "    plt.ylabel('Actual Values')\n",
    "    "
   ]
  },
  {
   "cell_type": "code",
   "execution_count": 9,
   "metadata": {},
   "outputs": [
    {
     "name": "stdout",
     "output_type": "stream",
     "text": [
      "LogisticRegression MSE:  0.06368092794181952\n",
      "LogisticRegression accuracy:  0.9363190720581804\n",
      "LogisticRegression F1 score:  0.9572809238559872\n"
     ]
    },
    {
     "data": {
      "image/png": "[encoded data removed]",
      "text/plain": [
       "<Figure size 600x600 with 1 Axes>"
      ]
     },
     "metadata": {},
     "output_type": "display_data"
    }
   ],
   "source": [
    "# Evaluate the model\n",
    "y_pred = model.predict(X_val)\n",
    "mse = ((y_val-y_pred)**2).mean()\n",
    "\n",
    "print(\"LogisticRegression MSE: \", mse)\n",
    "print(\"LogisticRegression accuracy: \", accuracy_score(y_val, y_pred))\n",
    "print(\"LogisticRegression F1 score: \", f1_score(y_val, y_pred))\n",
    "conf_matrix(y_val, y_pred)"
   ]
  }
 ],
 "metadata": {
  "kernelspec": {
   "display_name": "sng",
   "language": "python",
   "name": "python3"
  },
  "language_info": {
   "codemirror_mode": {
    "name": "ipython",
    "version": 3
   },
   "file_extension": ".py",
   "mimetype": "text/x-python",
   "name": "python",
   "nbconvert_exporter": "python",
   "pygments_lexer": "ipython3",
   "version": "3.12.9"
  }
 },
 "nbformat": 4,
 "nbformat_minor": 2
}
