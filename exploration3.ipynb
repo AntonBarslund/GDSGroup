{
 "cells": [
  {
   "cell_type": "code",
   "execution_count": 3,
   "metadata": {},
   "outputs": [
    {
     "name": "stderr",
     "output_type": "stream",
     "text": [
      "/opt/anaconda3/envs/studie/lib/python3.12/site-packages/tqdm/auto.py:21: TqdmWarning: IProgress not found. Please update jupyter and ipywidgets. See https://ipywidgets.readthedocs.io/en/stable/user_install.html\n",
      "  from .autonotebook import tqdm as notebook_tqdm\n"
     ]
    }
   ],
   "source": [
    "import pandas as pd\n",
    "import nltk\n",
    "from nltk.tokenize import word_tokenize\n",
    "from nltk import pos_tag\n",
    "import matplotlib.pyplot as plt\n",
    "from tqdm import tqdm\n",
    "import swifter\n",
    "\n",
    "#required resources; download once\n",
    "#nltk.download('punkt')\n",
    "#nltk.download('averaged_perceptron_tagger')"
   ]
  },
  {
   "cell_type": "code",
   "execution_count": 2,
   "metadata": {},
   "outputs": [
    {
     "name": "stderr",
     "output_type": "stream",
     "text": [
      "/var/folders/5h/8kz4p9fx43v2v3g991x788nw0000gn/T/ipykernel_19508/1234656882.py:1: DtypeWarning: Columns (0,1) have mixed types. Specify dtype option on import or set low_memory=False.\n",
      "  df = pd.read_csv('data/995,000_row_cleaned.csv')\n"
     ]
    }
   ],
   "source": [
    "df = pd.read_csv('data/995,000_row_cleaned.csv')"
   ]
  },
  {
   "cell_type": "code",
   "execution_count": null,
   "metadata": {},
   "outputs": [
    {
     "name": "stderr",
     "output_type": "stream",
     "text": [
      "Pandas Apply: 100%|██████████| 995000/995000 [01:05<00:00, 15143.61it/s]\n"
     ]
    },
    {
     "name": "stdout",
     "output_type": "stream",
     "text": [
      "Total words in dataset: 263245932\n"
     ]
    },
    {
     "name": "stderr",
     "output_type": "stream",
     "text": [
      "Pandas Apply: 100%|██████████| 995000/995000 [20:40<00:00, 802.12it/s]  \n",
      "100%|█████████▉| 994839/995000 [00:05<00:00, 53672.22it/s] "
     ]
    }
   ],
   "source": [
    "# Totalt antal ord i content\n",
    "total_words = df[\"content\"].swifter.progress_bar(True).apply(lambda x: len(str(x).split())).sum()\n",
    "print(\"Total words in dataset:\", total_words)\n",
    "\n",
    "# Funktion til at finde alle unikke ord i en text\n",
    "def extract_unique_words(text):\n",
    "    return set(str(text).split())\n",
    "\n",
    "# Apply function efficiently using swifter\n",
    "unique_word_sets = df[\"content\"].swifter.progress_bar(True).apply(extract_unique_words)\n",
    "\n",
    "# Combine all sets and count unique words\n",
    "total_unique_words = len(set().union(*tqdm(unique_word_sets)))\n",
    "\n",
    "print(\"Total unique words in dataset:\", total_unique_words)\n",
    "\n",
    "# Procentdel af unikke ord pr. ord\n",
    "print(\"Unique words per word:\", (total_unique_words / total_words) * 100)"
   ]
  },
  {
   "cell_type": "markdown",
   "metadata": {},
   "source": [
    "Pandas Apply: 100%|██████████| 995000/995000 [00:37<00:00, 26413.46it/s]\n",
    "Total words in dataset: 263245932\n",
    "Pandas Apply: 100%|██████████| 995000/995000 [06:29<00:00, 2556.07it/s] \n",
    "Total unique words in dataset: 1726502\n",
    "Unique words per word: 0.6558513504398616"
   ]
  }
 ],
 "metadata": {
  "kernelspec": {
   "display_name": "studie",
   "language": "python",
   "name": "python3"
  },
  "language_info": {
   "codemirror_mode": {
    "name": "ipython",
    "version": 3
   },
   "file_extension": ".py",
   "mimetype": "text/x-python",
   "name": "python",
   "nbconvert_exporter": "python",
   "pygments_lexer": "ipython3",
   "version": "3.12.9"
  }
 },
 "nbformat": 4,
 "nbformat_minor": 2
}
